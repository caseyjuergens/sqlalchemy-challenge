{
 "cells": [
  {
   "cell_type": "code",
   "execution_count": 1,
   "metadata": {},
   "outputs": [],
   "source": [
    "%matplotlib inline\n",
    "from matplotlib import style\n",
    "style.use('fivethirtyeight')\n",
    "import matplotlib.pyplot as plt"
   ]
  },
  {
   "cell_type": "code",
   "execution_count": 2,
   "metadata": {},
   "outputs": [],
   "source": [
    "import numpy as np\n",
    "import pandas as pd\n",
    "import datetime as dt"
   ]
  },
  {
   "cell_type": "markdown",
   "metadata": {},
   "source": [
    "# Reflect Tables into SQLAlchemy ORM"
   ]
  },
  {
   "cell_type": "code",
   "execution_count": 3,
   "metadata": {},
   "outputs": [],
   "source": [
    "# Python SQL toolkit and Object Relational Mapper\n",
    "import sqlalchemy\n",
    "from sqlalchemy.ext.automap import automap_base\n",
    "from sqlalchemy.orm import Session\n",
    "from sqlalchemy import create_engine, func, inspect"
   ]
  },
  {
   "cell_type": "code",
   "execution_count": 4,
   "metadata": {},
   "outputs": [],
   "source": [
    "# create engine to hawaii.sqlite\n",
    "engine = create_engine(\"sqlite:///Resources/hawaii.sqlite\")"
   ]
  },
  {
   "cell_type": "code",
   "execution_count": 5,
   "metadata": {},
   "outputs": [
    {
     "data": {
      "text/plain": [
       "['measurement', 'station']"
      ]
     },
     "execution_count": 5,
     "metadata": {},
     "output_type": "execute_result"
    }
   ],
   "source": [
    "# reflect an existing database into a new model\n",
    "Base = automap_base()\n",
    "Base.prepare(engine, reflect= True)\n",
    "# reflect the tables\n",
    "Base.classes.keys()\n"
   ]
  },
  {
   "cell_type": "code",
   "execution_count": 6,
   "metadata": {},
   "outputs": [
    {
     "data": {
      "text/plain": [
       "['measurement', 'station']"
      ]
     },
     "execution_count": 6,
     "metadata": {},
     "output_type": "execute_result"
    }
   ],
   "source": [
    "# View all of the classes that automap found\n",
    "inspector = inspect(engine)\n",
    "inspector.get_table_names()"
   ]
  },
  {
   "cell_type": "code",
   "execution_count": 7,
   "metadata": {},
   "outputs": [],
   "source": [
    "# Save references to each table\n",
    "Measurement = Base.classes.measurement\n",
    "Station = Base.classes.station"
   ]
  },
  {
   "cell_type": "code",
   "execution_count": 8,
   "metadata": {},
   "outputs": [],
   "source": [
    "# Create our session (link) from Python to the DB\n",
    "session= Session(engine)"
   ]
  },
  {
   "cell_type": "markdown",
   "metadata": {},
   "source": [
    "# Exploratory Precipitation Analysis"
   ]
  },
  {
   "cell_type": "code",
   "execution_count": 9,
   "metadata": {},
   "outputs": [
    {
     "data": {
      "text/plain": [
       "('2017-08-23',)"
      ]
     },
     "execution_count": 9,
     "metadata": {},
     "output_type": "execute_result"
    }
   ],
   "source": [
    "# Find the most recent date in the data set.\n",
    "session.query(Measurement.date).order_by(Measurement.date.desc()).first()"
   ]
  },
  {
   "cell_type": "code",
   "execution_count": 10,
   "metadata": {},
   "outputs": [],
   "source": [
    "# Design a query to retrieve the last 12 months of precipitation data and plot the results. \n",
    "# Starting from the most recent data point in the database.\n",
    "\n",
    "# Calculate the date one year from the last date in data set.\n",
    "lastyear= dt.date(2017,8,23)- dt.timedelta(days=365)\n",
    "\n",
    "# Perform a query to retrieve the data and precipitation scores\n",
    "last12months=session.query(Measurement.date, Measurement.prcp).filter(Measurement.date > lastyear).\\\n",
    "order_by(Measurement.date).all()"
   ]
  },
  {
   "cell_type": "code",
   "execution_count": 11,
   "metadata": {
    "scrolled": true
   },
   "outputs": [
    {
     "data": {
      "text/html": [
       "<div>\n",
       "<style scoped>\n",
       "    .dataframe tbody tr th:only-of-type {\n",
       "        vertical-align: middle;\n",
       "    }\n",
       "\n",
       "    .dataframe tbody tr th {\n",
       "        vertical-align: top;\n",
       "    }\n",
       "\n",
       "    .dataframe thead th {\n",
       "        text-align: right;\n",
       "    }\n",
       "</style>\n",
       "<table border=\"1\" class=\"dataframe\">\n",
       "  <thead>\n",
       "    <tr style=\"text-align: right;\">\n",
       "      <th></th>\n",
       "      <th>Date</th>\n",
       "      <th>PRCP</th>\n",
       "    </tr>\n",
       "  </thead>\n",
       "  <tbody>\n",
       "    <tr>\n",
       "      <th>0</th>\n",
       "      <td>2016-08-24</td>\n",
       "      <td>0.08</td>\n",
       "    </tr>\n",
       "    <tr>\n",
       "      <th>1</th>\n",
       "      <td>2016-08-24</td>\n",
       "      <td>2.15</td>\n",
       "    </tr>\n",
       "    <tr>\n",
       "      <th>2</th>\n",
       "      <td>2016-08-24</td>\n",
       "      <td>2.28</td>\n",
       "    </tr>\n",
       "    <tr>\n",
       "      <th>3</th>\n",
       "      <td>2016-08-24</td>\n",
       "      <td>NaN</td>\n",
       "    </tr>\n",
       "    <tr>\n",
       "      <th>4</th>\n",
       "      <td>2016-08-24</td>\n",
       "      <td>1.22</td>\n",
       "    </tr>\n",
       "    <tr>\n",
       "      <th>...</th>\n",
       "      <td>...</td>\n",
       "      <td>...</td>\n",
       "    </tr>\n",
       "    <tr>\n",
       "      <th>2218</th>\n",
       "      <td>2017-08-22</td>\n",
       "      <td>0.50</td>\n",
       "    </tr>\n",
       "    <tr>\n",
       "      <th>2221</th>\n",
       "      <td>2017-08-23</td>\n",
       "      <td>0.08</td>\n",
       "    </tr>\n",
       "    <tr>\n",
       "      <th>2219</th>\n",
       "      <td>2017-08-23</td>\n",
       "      <td>0.00</td>\n",
       "    </tr>\n",
       "    <tr>\n",
       "      <th>2220</th>\n",
       "      <td>2017-08-23</td>\n",
       "      <td>0.00</td>\n",
       "    </tr>\n",
       "    <tr>\n",
       "      <th>2222</th>\n",
       "      <td>2017-08-23</td>\n",
       "      <td>0.45</td>\n",
       "    </tr>\n",
       "  </tbody>\n",
       "</table>\n",
       "<p>2223 rows × 2 columns</p>\n",
       "</div>"
      ],
      "text/plain": [
       "            Date  PRCP\n",
       "0     2016-08-24  0.08\n",
       "1     2016-08-24  2.15\n",
       "2     2016-08-24  2.28\n",
       "3     2016-08-24   NaN\n",
       "4     2016-08-24  1.22\n",
       "...          ...   ...\n",
       "2218  2017-08-22  0.50\n",
       "2221  2017-08-23  0.08\n",
       "2219  2017-08-23  0.00\n",
       "2220  2017-08-23  0.00\n",
       "2222  2017-08-23  0.45\n",
       "\n",
       "[2223 rows x 2 columns]"
      ]
     },
     "execution_count": 11,
     "metadata": {},
     "output_type": "execute_result"
    }
   ],
   "source": [
    "# Save the query results as a Pandas DataFrame and set the index to the date column\n",
    "# set index to \"Date\" column, sort values by \"Date\"\n",
    "last_year_prcp= pd.DataFrame(last12months)\n",
    "last_year_prcp.columns=[\"Date\", \"PRCP\"]\n",
    "last_year_prcp.set_index(\"Date\")\n",
    "last_year_prcp.sort_values(by=[\"Date\"])"
   ]
  },
  {
   "cell_type": "code",
   "execution_count": 18,
   "metadata": {},
   "outputs": [
    {
     "data": {
      "image/png": "[encoded data removed]",
      "text/plain": [
       "<Figure size 432x288 with 1 Axes>"
      ]
     },
     "metadata": {},
     "output_type": "display_data"
    }
   ],
   "source": [
    "# Use Pandas Plotting with Matplotlib to plot the data\n",
    "x_axis= last_year_prcp[\"Date\"]\n",
    "y_axis= last_year_prcp[\"PRCP\"]\n",
    "\n",
    "plt.bar(x_axis, y_axis)\n",
    "#plt.xticks(np.arange(0, len(x_axis), 5))\n",
    "\n",
    "plt.title(\"Precipitation From Aug.2016-Aug.2017\")\n",
    "plt.xlabel(\"Date\")\n",
    "plt.ylabel(\"Inches\")\n",
    "#ax.set_xticks([10])\n",
    "plt.show()\n",
    "\n",
    "\n",
    "#ypos= last_year_prcp[\"PRCP\"]\n",
    "#xpos= last_year_prcp[\"Date\"]\n",
    "#fig,ax = plt.subplots()\n",
    "#last_year_prcp.plot(ax = ax)\n",
    "#ax.set_xticks(xpos)\n",
    "#ax.set_yticks(ypos)\n",
    "#ax.set_xticklabels([2])\n",
    "#ax.set_title(\"Precipitation From Aug.2016-Aug.2017\")\n",
    "\n",
    "#ax.set_ylabel(\"Inches\")\n",
    "#ax.set_xlabel(\"Date\")\n",
    "#plt.show()"
   ]
  },
  {
   "cell_type": "code",
   "execution_count": 19,
   "metadata": {},
   "outputs": [
    {
     "data": {
      "text/plain": [
       "count    2015.000000\n",
       "mean        0.176462\n",
       "std         0.460288\n",
       "min         0.000000\n",
       "25%         0.000000\n",
       "50%         0.020000\n",
       "75%         0.130000\n",
       "max         6.700000\n",
       "Name: PRCP, dtype: float64"
      ]
     },
     "execution_count": 19,
     "metadata": {},
     "output_type": "execute_result"
    }
   ],
   "source": [
    "# Use Pandas to calcualte the summary statistics for the precipitation data\n",
    "last_year_prcp[\"PRCP\"].describe()\n"
   ]
  },
  {
   "cell_type": "markdown",
   "metadata": {},
   "source": [
    "# Exploratory Station Analysis"
   ]
  },
  {
   "cell_type": "code",
   "execution_count": 20,
   "metadata": {},
   "outputs": [
    {
     "data": {
      "text/plain": [
       "9"
      ]
     },
     "execution_count": 20,
     "metadata": {},
     "output_type": "execute_result"
    }
   ],
   "source": [
    "# Design a query to calculate the total number stations in the dataset\n",
    "total_stations=session.query(Station.station).count()\n",
    "total_stations"
   ]
  },
  {
   "cell_type": "code",
   "execution_count": 21,
   "metadata": {},
   "outputs": [
    {
     "data": {
      "text/html": [
       "<div>\n",
       "<style scoped>\n",
       "    .dataframe tbody tr th:only-of-type {\n",
       "        vertical-align: middle;\n",
       "    }\n",
       "\n",
       "    .dataframe tbody tr th {\n",
       "        vertical-align: top;\n",
       "    }\n",
       "\n",
       "    .dataframe thead th {\n",
       "        text-align: right;\n",
       "    }\n",
       "</style>\n",
       "<table border=\"1\" class=\"dataframe\">\n",
       "  <thead>\n",
       "    <tr style=\"text-align: right;\">\n",
       "      <th></th>\n",
       "      <th>Station No.</th>\n",
       "      <th>Times Recorded</th>\n",
       "    </tr>\n",
       "  </thead>\n",
       "  <tbody>\n",
       "    <tr>\n",
       "      <th>6</th>\n",
       "      <td>USC00519281</td>\n",
       "      <td>2772</td>\n",
       "    </tr>\n",
       "    <tr>\n",
       "      <th>7</th>\n",
       "      <td>USC00519397</td>\n",
       "      <td>2724</td>\n",
       "    </tr>\n",
       "    <tr>\n",
       "      <th>1</th>\n",
       "      <td>USC00513117</td>\n",
       "      <td>2709</td>\n",
       "    </tr>\n",
       "    <tr>\n",
       "      <th>8</th>\n",
       "      <td>USC00519523</td>\n",
       "      <td>2669</td>\n",
       "    </tr>\n",
       "    <tr>\n",
       "      <th>3</th>\n",
       "      <td>USC00516128</td>\n",
       "      <td>2612</td>\n",
       "    </tr>\n",
       "    <tr>\n",
       "      <th>2</th>\n",
       "      <td>USC00514830</td>\n",
       "      <td>2202</td>\n",
       "    </tr>\n",
       "    <tr>\n",
       "      <th>0</th>\n",
       "      <td>USC00511918</td>\n",
       "      <td>1979</td>\n",
       "    </tr>\n",
       "    <tr>\n",
       "      <th>4</th>\n",
       "      <td>USC00517948</td>\n",
       "      <td>1372</td>\n",
       "    </tr>\n",
       "    <tr>\n",
       "      <th>5</th>\n",
       "      <td>USC00518838</td>\n",
       "      <td>511</td>\n",
       "    </tr>\n",
       "  </tbody>\n",
       "</table>\n",
       "</div>"
      ],
      "text/plain": [
       "   Station No.  Times Recorded\n",
       "6  USC00519281            2772\n",
       "7  USC00519397            2724\n",
       "1  USC00513117            2709\n",
       "8  USC00519523            2669\n",
       "3  USC00516128            2612\n",
       "2  USC00514830            2202\n",
       "0  USC00511918            1979\n",
       "4  USC00517948            1372\n",
       "5  USC00518838             511"
      ]
     },
     "execution_count": 21,
     "metadata": {},
     "output_type": "execute_result"
    }
   ],
   "source": [
    "# Design a query to find the most active stations (i.e. what stations have the most rows?)\n",
    "# List the stations and the counts in descending order.\n",
    "station_counts= session.query(Measurement.station, func.count()).\\\n",
    "    group_by(Measurement.station).all()\n",
    "\n",
    "station_counts_df= pd.DataFrame(station_counts)\n",
    "station_counts_df.columns=[\"Station No.\", \"Times Recorded\"]\n",
    "station_counts_df.sort_values(by= \"Times Recorded\", ascending=False)\n"
   ]
  },
  {
   "cell_type": "code",
   "execution_count": 25,
   "metadata": {},
   "outputs": [
    {
     "data": {
      "text/plain": [
       "[(54.0, 85.0, 71.66378066378067)]"
      ]
     },
     "execution_count": 25,
     "metadata": {},
     "output_type": "execute_result"
    }
   ],
   "source": [
    "# Using the most active station id from the previous query, calculate the lowest, highest, and average temperature.\n",
    "most_active= 'USC00519281'\n",
    "session.query(func.min(Measurement.tobs), func.max(Measurement.tobs), func.avg(Measurement.tobs)).\\\n",
    "    filter(Measurement.station == most_active).all()"
   ]
  },
  {
   "cell_type": "code",
   "execution_count": 29,
   "metadata": {},
   "outputs": [
    {
     "data": {
      "text/plain": [
       "[('2016-08-24', 2.15),\n",
       " ('2016-08-25', 0.06),\n",
       " ('2016-08-26', 0.01),\n",
       " ('2016-08-27', 0.12),\n",
       " ('2016-08-28', 0.6),\n",
       " ('2016-08-29', 0.35),\n",
       " ('2016-08-30', 0.0),\n",
       " ('2016-08-31', 0.24),\n",
       " ('2016-09-01', 0.02),\n",
       " ('2016-09-02', 0.01),\n",
       " ('2016-09-03', 0.12),\n",
       " ('2016-09-04', 0.14),\n",
       " ('2016-09-05', 0.03),\n",
       " ('2016-09-06', 0.11),\n",
       " ('2016-09-07', 0.16),\n",
       " ('2016-09-08', 0.07),\n",
       " ('2016-09-09', 0.16),\n",
       " ('2016-09-10', 0.09),\n",
       " ('2016-09-11', 0.3),\n",
       " ('2016-09-12', 0.31),\n",
       " ('2016-09-13', 0.34),\n",
       " ('2016-09-14', 2.33),\n",
       " ('2016-09-15', 0.83),\n",
       " ('2016-09-16', 0.06),\n",
       " ('2016-09-17', 0.36),\n",
       " ('2016-09-18', 0.07),\n",
       " ('2016-09-19', 0.01),\n",
       " ('2016-09-20', 0.22),\n",
       " ('2016-09-21', 0.07),\n",
       " ('2016-09-22', 0.34),\n",
       " ('2016-09-23', 0.94),\n",
       " ('2016-09-24', 0.01),\n",
       " ('2016-09-25', 0.03),\n",
       " ('2016-09-26', 0.17),\n",
       " ('2016-09-27', 0.17),\n",
       " ('2016-09-28', 0.0),\n",
       " ('2016-09-29', 0.59),\n",
       " ('2016-09-30', 0.25),\n",
       " ('2016-10-01', 0.14),\n",
       " ('2016-10-02', 0.06),\n",
       " ('2016-10-03', 0.16),\n",
       " ('2016-10-04', 0.03),\n",
       " ('2016-10-05', 0.01),\n",
       " ('2016-10-06', 0.0),\n",
       " ('2016-10-07', 0.0),\n",
       " ('2016-10-08', 0.0),\n",
       " ('2016-10-09', 0.0),\n",
       " ('2016-10-10', 0.0),\n",
       " ('2016-10-11', 0.28),\n",
       " ('2016-10-12', 0.03),\n",
       " ('2016-10-13', 0.0),\n",
       " ('2016-10-14', 0.0),\n",
       " ('2016-10-15', 0.04),\n",
       " ('2016-10-16', 0.0),\n",
       " ('2016-10-17', 0.01),\n",
       " ('2016-10-18', 0.02),\n",
       " ('2016-10-19', 0.11),\n",
       " ('2016-10-20', 0.0),\n",
       " ('2016-10-21', 0.0),\n",
       " ('2016-10-22', 0.15),\n",
       " ('2016-10-23', 0.02),\n",
       " ('2016-10-24', 0.08),\n",
       " ('2016-10-25', 0.11),\n",
       " ('2016-10-26', 0.01),\n",
       " ('2016-10-27', 0.22),\n",
       " ('2016-10-28', 0.05),\n",
       " ('2016-10-29', 0.1),\n",
       " ('2016-10-30', 0.16),\n",
       " ('2016-10-31', 0.07),\n",
       " ('2016-11-01', 0.1),\n",
       " ('2016-11-02', 0.0),\n",
       " ('2016-11-03', 0.0),\n",
       " ('2016-11-04', 0.0),\n",
       " ('2016-11-05', 0.03),\n",
       " ('2016-11-06', 0.01),\n",
       " ('2016-11-07', 0.0),\n",
       " ('2016-11-08', 0.21),\n",
       " ('2016-11-09', 0.11),\n",
       " ('2016-11-10', 0.0),\n",
       " ('2016-11-11', 0.0),\n",
       " ('2016-11-12', 0.0),\n",
       " ('2016-11-13', 0.0),\n",
       " ('2016-11-14', 0.0),\n",
       " ('2016-11-15', 0.0),\n",
       " ('2016-11-16', 0.24),\n",
       " ('2016-11-17', 0.01),\n",
       " ('2016-11-18', 0.0),\n",
       " ('2016-11-19', 0.11),\n",
       " ('2016-11-20', 0.39),\n",
       " ('2016-11-21', 0.11),\n",
       " ('2016-11-22', 2.05),\n",
       " ('2016-11-23', 0.25),\n",
       " ('2016-11-24', 0.3),\n",
       " ('2016-11-25', 0.08),\n",
       " ('2016-11-26', 0.06),\n",
       " ('2016-11-27', 0.17),\n",
       " ('2016-11-28', 0.0),\n",
       " ('2016-11-29', 0.09),\n",
       " ('2016-11-30', 0.05),\n",
       " ('2016-12-01', 0.37),\n",
       " ('2016-12-02', 0.35),\n",
       " ('2016-12-03', 0.77),\n",
       " ('2016-12-04', 0.04),\n",
       " ('2016-12-05', 0.22),\n",
       " ('2016-12-06', 0.0),\n",
       " ('2016-12-07', 0.12),\n",
       " ('2016-12-08', 0.07),\n",
       " ('2016-12-09', 0.31),\n",
       " ('2016-12-10', 0.02),\n",
       " ('2016-12-11', 0.0),\n",
       " ('2016-12-12', 0.0),\n",
       " ('2016-12-13', 0.04),\n",
       " ('2016-12-14', 0.92),\n",
       " ('2016-12-15', 0.14),\n",
       " ('2016-12-16', 0.03),\n",
       " ('2016-12-17', 0.07),\n",
       " ('2016-12-18', 0.16),\n",
       " ('2016-12-19', 0.03),\n",
       " ('2016-12-20', 0.0),\n",
       " ('2016-12-21', 0.11),\n",
       " ('2016-12-22', 0.86),\n",
       " ('2016-12-23', 0.24),\n",
       " ('2016-12-24', 0.2),\n",
       " ('2016-12-25', 0.02),\n",
       " ('2016-12-26', 0.22),\n",
       " ('2016-12-27', 0.05),\n",
       " ('2016-12-28', 0.09),\n",
       " ('2016-12-29', 0.52),\n",
       " ('2016-12-30', 0.29),\n",
       " ('2016-12-31', 0.25),\n",
       " ('2017-01-01', 0.03),\n",
       " ('2017-01-02', 0.01),\n",
       " ('2017-01-03', 0.0),\n",
       " ('2017-01-04', 0.0),\n",
       " ('2017-01-05', 0.06),\n",
       " ('2017-01-06', 0.1),\n",
       " ('2017-01-07', 0.0),\n",
       " ('2017-01-08', 0.0),\n",
       " ('2017-01-09', 0.0),\n",
       " ('2017-01-10', 0.0),\n",
       " ('2017-01-11', 0.0),\n",
       " ('2017-01-12', 0.0),\n",
       " ('2017-01-13', 0.0),\n",
       " ('2017-01-14', 0.01),\n",
       " ('2017-01-15', 0.0),\n",
       " ('2017-01-16', 0.0),\n",
       " ('2017-01-17', 0.0),\n",
       " ('2017-01-18', 0.0),\n",
       " ('2017-01-19', 0.02),\n",
       " ('2017-01-20', 0.0),\n",
       " ('2017-01-21', 0.03),\n",
       " ('2017-01-22', 0.09),\n",
       " ('2017-01-23', 0.01),\n",
       " ('2017-01-24', 0.13),\n",
       " ('2017-01-25', 0.79),\n",
       " ('2017-01-26', 0.0),\n",
       " ('2017-01-27', 0.03),\n",
       " ('2017-01-28', 0.0),\n",
       " ('2017-01-29', 0.26),\n",
       " ('2017-01-30', 0.0),\n",
       " ('2017-01-31', 0.0),\n",
       " ('2017-02-01', 0.0),\n",
       " ('2017-02-02', 0.0),\n",
       " ('2017-02-03', 0.0),\n",
       " ('2017-02-04', 0.0),\n",
       " ('2017-02-05', 0.0),\n",
       " ('2017-02-06', 0.18),\n",
       " ('2017-02-07', 1.32),\n",
       " ('2017-02-08', 0.0),\n",
       " ('2017-02-09', 0.0),\n",
       " ('2017-02-10', 0.0),\n",
       " ('2017-02-11', 1.73),\n",
       " ('2017-02-12', 2.98),\n",
       " ('2017-02-13', 0.01),\n",
       " ('2017-02-14', 0.0),\n",
       " ('2017-02-15', 0.01),\n",
       " ('2017-02-16', 0.73),\n",
       " ('2017-02-17', 0.13),\n",
       " ('2017-02-18', 0.0),\n",
       " ('2017-02-19', 0.09),\n",
       " ('2017-02-20', 0.0),\n",
       " ('2017-02-21', 0.0),\n",
       " ('2017-02-22', 0.06),\n",
       " ('2017-02-23', 0.0),\n",
       " ('2017-02-24', 0.0),\n",
       " ('2017-02-25', 0.0),\n",
       " ('2017-02-26', 0.0),\n",
       " ('2017-02-27', 0.0),\n",
       " ('2017-02-28', 0.04),\n",
       " ('2017-03-01', 2.12),\n",
       " ('2017-03-02', 1.88),\n",
       " ('2017-03-03', 0.27),\n",
       " ('2017-03-04', 0.0),\n",
       " ('2017-03-05', 0.41),\n",
       " ('2017-03-06', 0.03),\n",
       " ('2017-03-07', 0.0),\n",
       " ('2017-03-08', 0.0),\n",
       " ('2017-03-09', 0.65),\n",
       " ('2017-03-10', 0.03),\n",
       " ('2017-03-11', 0.01),\n",
       " ('2017-03-12', 0.0),\n",
       " ('2017-03-13', 0.0),\n",
       " ('2017-03-14', 0.0),\n",
       " ('2017-03-15', 0.06),\n",
       " ('2017-03-16', 0.0),\n",
       " ('2017-03-17', 0.12),\n",
       " ('2017-03-18', 0.0),\n",
       " ('2017-03-19', 0.0),\n",
       " ('2017-03-20', 0.02),\n",
       " ('2017-03-21', 0.09),\n",
       " ('2017-03-22', 0.0),\n",
       " ('2017-03-23', 0.0),\n",
       " ('2017-03-24', 0.12),\n",
       " ('2017-03-25', 0.93),\n",
       " ('2017-03-26', 0.0),\n",
       " ('2017-03-27', 0.01),\n",
       " ('2017-03-28', 0.0),\n",
       " ('2017-03-29', 0.01),\n",
       " ('2017-03-30', 0.04),\n",
       " ('2017-03-31', 0.01),\n",
       " ('2017-04-01', 0.21),\n",
       " ('2017-04-02', 0.0),\n",
       " ('2017-04-03', 0.26),\n",
       " ('2017-04-04', 0.09),\n",
       " ('2017-04-05', 0.1),\n",
       " ('2017-04-06', 0.06),\n",
       " ('2017-04-07', 0.0),\n",
       " ('2017-04-08', 0.0),\n",
       " ('2017-04-09', 0.0),\n",
       " ('2017-04-10', 0.01),\n",
       " ('2017-04-11', 0.03),\n",
       " ('2017-04-12', 0.11),\n",
       " ('2017-04-13', 0.59),\n",
       " ('2017-04-14', 2.3),\n",
       " ('2017-04-15', 0.38),\n",
       " ('2017-04-16', 0.47),\n",
       " ('2017-04-17', 1.04),\n",
       " ('2017-04-18', 2.03),\n",
       " ('2017-04-19', 0.02),\n",
       " ('2017-04-20', 0.05),\n",
       " ('2017-04-21', 1.74),\n",
       " ('2017-04-22', 1.58),\n",
       " ('2017-04-23', 0.06),\n",
       " ('2017-04-24', 0.01),\n",
       " ('2017-04-25', 0.0),\n",
       " ('2017-04-26', 0.02),\n",
       " ('2017-04-27', 0.19),\n",
       " ('2017-04-28', 0.76),\n",
       " ('2017-04-29', 0.37),\n",
       " ('2017-04-30', 1.04),\n",
       " ('2017-05-01', 0.13),\n",
       " ('2017-05-02', 0.01),\n",
       " ('2017-05-03', 0.01),\n",
       " ('2017-05-04', 0.0),\n",
       " ('2017-05-05', 0.0),\n",
       " ('2017-05-06', 0.0),\n",
       " ('2017-05-07', 0.02),\n",
       " ('2017-05-08', 0.73),\n",
       " ('2017-05-09', 1.58),\n",
       " ('2017-05-10', 0.2),\n",
       " ('2017-05-11', 0.12),\n",
       " ('2017-05-12', 0.02),\n",
       " ('2017-05-13', 0.12),\n",
       " ('2017-05-14', 0.17),\n",
       " ('2017-05-15', 0.09),\n",
       " ('2017-05-16', 0.03),\n",
       " ('2017-05-17', 0.07),\n",
       " ('2017-05-18', 0.13),\n",
       " ('2017-05-19', 0.01),\n",
       " ('2017-05-20', 0.02),\n",
       " ('2017-05-21', 0.01),\n",
       " ('2017-05-22', 0.06),\n",
       " ('2017-05-23', 0.06),\n",
       " ('2017-05-24', 0.3),\n",
       " ('2017-05-25', 0.2),\n",
       " ('2017-05-26', 0.0),\n",
       " ('2017-05-27', 0.0),\n",
       " ('2017-05-28', 0.08),\n",
       " ('2017-05-29', 0.4),\n",
       " ('2017-05-30', 1.12),\n",
       " ('2017-05-31', 0.25),\n",
       " ('2017-06-01', 0.0),\n",
       " ('2017-06-02', 0.09),\n",
       " ('2017-06-03', 0.08),\n",
       " ('2017-06-04', 0.13),\n",
       " ('2017-06-05', 0.05),\n",
       " ('2017-06-06', 0.0),\n",
       " ('2017-06-07', 0.0),\n",
       " ('2017-06-08', 0.0),\n",
       " ('2017-06-09', 0.02),\n",
       " ('2017-06-10', 0.62),\n",
       " ('2017-06-11', 0.74),\n",
       " ('2017-06-12', 0.24),\n",
       " ('2017-06-13', 0.24),\n",
       " ('2017-06-14', 0.22),\n",
       " ('2017-06-15', 0.55),\n",
       " ('2017-06-16', 0.06),\n",
       " ('2017-06-17', 0.07),\n",
       " ('2017-06-18', 0.24),\n",
       " ('2017-06-19', 0.08),\n",
       " ('2017-06-20', 0.0),\n",
       " ('2017-06-21', 0.19),\n",
       " ('2017-06-22', 0.06),\n",
       " ('2017-06-23', 0.12),\n",
       " ('2017-06-24', 0.36),\n",
       " ('2017-06-25', 0.02),\n",
       " ('2017-06-26', 0.06),\n",
       " ('2017-06-27', 0.01),\n",
       " ('2017-06-28', 0.0),\n",
       " ('2017-06-29', 0.0),\n",
       " ('2017-06-30', 0.01),\n",
       " ('2017-07-01', 0.08),\n",
       " ('2017-07-02', 0.15),\n",
       " ('2017-07-03', 0.15),\n",
       " ('2017-07-04', 0.08),\n",
       " ('2017-07-05', 0.0),\n",
       " ('2017-07-06', 0.0),\n",
       " ('2017-07-07', 0.18),\n",
       " ('2017-07-08', 0.0),\n",
       " ('2017-07-09', 0.11),\n",
       " ('2017-07-10', 0.02),\n",
       " ('2017-07-11', 0.02),\n",
       " ('2017-07-12', 0.28),\n",
       " ('2017-07-13', 0.32),\n",
       " ('2017-07-14', 0.2),\n",
       " ('2017-07-15', 0.05),\n",
       " ('2017-07-16', 0.1),\n",
       " ('2017-07-17', 0.21),\n",
       " ('2017-07-18', 0.05),\n",
       " ('2017-07-19', 0.05),\n",
       " ('2017-07-20', 0.06),\n",
       " ('2017-07-21', 0.03),\n",
       " ('2017-07-22', 0.2),\n",
       " ('2017-07-23', 0.2),\n",
       " ('2017-07-24', 0.61),\n",
       " ('2017-07-25', 0.11),\n",
       " ('2017-07-26', 0.12),\n",
       " ('2017-07-27', 0.01),\n",
       " ('2017-07-28', 0.09),\n",
       " ('2017-07-29', 0.23),\n",
       " ('2017-07-30', 0.0),\n",
       " ('2017-07-31', 0.0),\n",
       " ('2017-08-04', 0.0),\n",
       " ('2017-08-05', 0.06),\n",
       " ('2017-08-06', 0.0),\n",
       " ('2017-08-13', 0.0),\n",
       " ('2017-08-14', 0.0),\n",
       " ('2017-08-15', 0.32),\n",
       " ('2017-08-16', 0.12),\n",
       " ('2017-08-17', 0.01),\n",
       " ('2017-08-18', 0.06)]"
      ]
     },
     "execution_count": 29,
     "metadata": {},
     "output_type": "execute_result"
    }
   ],
   "source": [
    "# Using the most active station id\n",
    "# Query the last 12 months of temperature observation data for this station and plot the results as a histogram\n",
    "most_active_last_year=session.query(Measurement.date, Measurement.prcp).filter(Measurement.date > lastyear).\\\n",
    "    order_by(Measurement.date).filter(Measurement.station == most_active).all()\n",
    "most_active_last_year"
   ]
  },
  {
   "cell_type": "markdown",
   "metadata": {},
   "source": [
    "# Close session"
   ]
  },
  {
   "cell_type": "code",
   "execution_count": null,
   "metadata": {},
   "outputs": [],
   "source": [
    "# Close Session\n",
    "session.close()"
   ]
  },
  {
   "cell_type": "code",
   "execution_count": null,
   "metadata": {},
   "outputs": [],
   "source": []
  }
 ],
 "metadata": {
  "anaconda-cloud": {},
  "kernel_info": {
   "name": "python3"
  },
  "kernelspec": {
   "display_name": "Python [conda env:PythonData] *",
   "language": "python",
   "name": "conda-env-PythonData-py"
  },
  "language_info": {
   "codemirror_mode": {
    "name": "ipython",
    "version": 3
   },
   "file_extension": ".py",
   "mimetype": "text/x-python",
   "name": "python",
   "nbconvert_exporter": "python",
   "pygments_lexer": "ipython3",
   "version": "3.6.10"
  },
  "nteract": {
   "version": "0.12.3"
  },
  "varInspector": {
   "cols": {
    "lenName": 16,
    "lenType": 16,
    "lenVar": 40
   },
   "kernels_config": {
    "python": {
     "delete_cmd_postfix": "",
     "delete_cmd_prefix": "del ",
     "library": "var_list.py",
     "varRefreshCmd": "print(var_dic_list())"
    },
    "r": {
     "delete_cmd_postfix": ") ",
     "delete_cmd_prefix": "rm(",
     "library": "var_list.r",
     "varRefreshCmd": "cat(var_dic_list()) "
    }
   },
   "types_to_exclude": [
    "module",
    "function",
    "builtin_function_or_method",
    "instance",
    "_Feature"
   ],
   "window_display": false
  }
 },
 "nbformat": 4,
 "nbformat_minor": 2
}
